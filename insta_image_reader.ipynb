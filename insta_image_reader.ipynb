{
 "cells": [
  {
   "cell_type": "markdown",
   "metadata": {},
   "source": [
    "# The Instagram Image Reader"
   ]
  },
  {
   "cell_type": "markdown",
   "metadata": {},
   "source": [
    " "
   ]
  },
  {
   "cell_type": "markdown",
   "metadata": {},
   "source": [
    "## The Objective "
   ]
  },
  {
   "cell_type": "markdown",
   "metadata": {},
   "source": [
    "We want to build a function that is able to download all images from Instagram, which are related to a hashtag."
   ]
  },
  {
   "cell_type": "markdown",
   "metadata": {},
   "source": [
    "## Setup and requirements"
   ]
  },
  {
   "cell_type": "code",
   "execution_count": 1,
   "metadata": {},
   "outputs": [],
   "source": [
    "from bs4 import BeautifulSoup as bs\n",
    "import selenium.webdriver as webdriver\n",
    "from PIL import Image"
   ]
  },
  {
   "cell_type": "markdown",
   "metadata": {},
   "source": [
    " "
   ]
  },
  {
   "cell_type": "markdown",
   "metadata": {},
   "source": [
    "## Extract links from Instagram page"
   ]
  },
  {
   "cell_type": "markdown",
   "metadata": {},
   "source": [
    "At first, we need to extract all links from the hashtag page."
   ]
  },
  {
   "cell_type": "code",
   "execution_count": 2,
   "metadata": {},
   "outputs": [],
   "source": [
    "url = 'https://www.instagram.com/explore/tags/picoftheday/'\n",
    "driver = webdriver.Chrome(\"/usr/bin/chromedriver\")\n",
    "driver.get(url)"
   ]
  },
  {
   "cell_type": "code",
   "execution_count": 3,
   "metadata": {
    "scrolled": true
   },
   "outputs": [
    {
     "name": "stdout",
     "output_type": "stream",
     "text": [
      "['/explore/tags/photooftheday/', '/explore/tags/instadaily/', '/explore/tags/picooftheday/', '/p/B7bufFehL_8/', '/p/B7bzpiAFGip/', '/p/B7btVT8nTQy/', '/p/B7bwM4flzFu/', '/p/B7byLkChk_q/', '/p/B7bvMOdIchX/', '/p/B7bx2iBoQfV/', '/p/B7bv_n7i2cs/', '/p/B7bsD9_J0Xp/', '/p/B7b3WfgHL9E/', '/p/B7b3WWsAFHT/', '/p/B7b3WZKlNQC/', '/p/B7b3WTuBgSi/', '/p/B7b3V-4oSZl/', '/p/B7b3V8-oVaR/', '/p/B7b3V44lAi8/', '/p/B7b3UL2p0pD/', '/p/B7b3Vyoi0OE/', '/p/B7b3VzEFoAr/', '/p/B7b3VrHIu_d/', '/p/B7b3Vt6AaC-/', '/p/B7b3Vl8IMTx/', '/p/B7b3VnHHQ7y/', '/p/B7b3Vc8obz1/', '/p/B7b3VeYInVF/', '/p/B7b3VdWgWwO/', '/p/B7b3VcXpGln/', '/p/B7b3VbHJWam/', '/p/B7b3VZRJ2Kp/', '/p/B7b3VRlg9yZ/', '/p/B7b3VTbAnwc/', '/p/B7b3VIwoEZs/', '/p/B7b3VJAnwGU/', '/legal/cookies/', '/', '/accounts/login/?next=%2F&source=logged_out_half_sheet', '/accounts/emailsignup/', '/accounts/login/?next=%2Fexplore%2Ftags%2Fpicoftheday%2F&source=desktop_nav', '/accounts/emailsignup/', 'https://about.instagram.com/about-us', 'https://help.instagram.com/', 'https://instagram-press.com/', '/developer/', '/about/jobs/', '/legal/privacy/', '/legal/terms/', '/explore/locations/', '/directory/profiles/', '/directory/hashtags/']\n"
     ]
    }
   ],
   "source": [
    "soup = bs(driver.page_source)\n",
    "\n",
    "all_links = []\n",
    "for link in soup.find_all('a'):\n",
    "    current_link = link.get('href')\n",
    "    all_links.append(current_link)\n",
    "    \n",
    "print(all_links)\n",
    "driver.close()"
   ]
  },
  {
   "cell_type": "markdown",
   "metadata": {},
   "source": [
    "Next we identify these links that follow to the single posts."
   ]
  },
  {
   "cell_type": "code",
   "execution_count": 4,
   "metadata": {},
   "outputs": [
    {
     "name": "stdout",
     "output_type": "stream",
     "text": [
      "['/p/B7bufFehL_8/', '/p/B7bzpiAFGip/', '/p/B7btVT8nTQy/', '/p/B7bwM4flzFu/', '/p/B7byLkChk_q/', '/p/B7bvMOdIchX/', '/p/B7bx2iBoQfV/', '/p/B7bv_n7i2cs/', '/p/B7bsD9_J0Xp/', '/p/B7b3WfgHL9E/', '/p/B7b3WWsAFHT/', '/p/B7b3WZKlNQC/', '/p/B7b3WTuBgSi/', '/p/B7b3V-4oSZl/', '/p/B7b3V8-oVaR/', '/p/B7b3V44lAi8/', '/p/B7b3UL2p0pD/', '/p/B7b3Vyoi0OE/', '/p/B7b3VzEFoAr/', '/p/B7b3VrHIu_d/', '/p/B7b3Vt6AaC-/', '/p/B7b3Vl8IMTx/', '/p/B7b3VnHHQ7y/', '/p/B7b3Vc8obz1/', '/p/B7b3VeYInVF/', '/p/B7b3VdWgWwO/', '/p/B7b3VcXpGln/', '/p/B7b3VbHJWam/', '/p/B7b3VZRJ2Kp/', '/p/B7b3VRlg9yZ/', '/p/B7b3VTbAnwc/', '/p/B7b3VIwoEZs/', '/p/B7b3VJAnwGU/']\n"
     ]
    }
   ],
   "source": [
    "substring = \"/p/\"\n",
    "\n",
    "image_links = []\n",
    "for i in range(0, len(all_links)):\n",
    "    if all_links[i].startswith(substring):\n",
    "        image_links.append(all_links[i])\n",
    "\n",
    "print(image_links)"
   ]
  },
  {
   "cell_type": "markdown",
   "metadata": {},
   "source": [
    "## Rebuild links "
   ]
  },
  {
   "cell_type": "code",
   "execution_count": 5,
   "metadata": {},
   "outputs": [
    {
     "name": "stdout",
     "output_type": "stream",
     "text": [
      "['https://www.instagram.com/p/B7bufFehL_8/', 'https://www.instagram.com/p/B7bzpiAFGip/', 'https://www.instagram.com/p/B7btVT8nTQy/', 'https://www.instagram.com/p/B7bwM4flzFu/', 'https://www.instagram.com/p/B7byLkChk_q/', 'https://www.instagram.com/p/B7bvMOdIchX/', 'https://www.instagram.com/p/B7bx2iBoQfV/', 'https://www.instagram.com/p/B7bv_n7i2cs/', 'https://www.instagram.com/p/B7bsD9_J0Xp/', 'https://www.instagram.com/p/B7b3WfgHL9E/', 'https://www.instagram.com/p/B7b3WWsAFHT/', 'https://www.instagram.com/p/B7b3WZKlNQC/', 'https://www.instagram.com/p/B7b3WTuBgSi/', 'https://www.instagram.com/p/B7b3V-4oSZl/', 'https://www.instagram.com/p/B7b3V8-oVaR/', 'https://www.instagram.com/p/B7b3V44lAi8/', 'https://www.instagram.com/p/B7b3UL2p0pD/', 'https://www.instagram.com/p/B7b3Vyoi0OE/', 'https://www.instagram.com/p/B7b3VzEFoAr/', 'https://www.instagram.com/p/B7b3VrHIu_d/', 'https://www.instagram.com/p/B7b3Vt6AaC-/', 'https://www.instagram.com/p/B7b3Vl8IMTx/', 'https://www.instagram.com/p/B7b3VnHHQ7y/', 'https://www.instagram.com/p/B7b3Vc8obz1/', 'https://www.instagram.com/p/B7b3VeYInVF/', 'https://www.instagram.com/p/B7b3VdWgWwO/', 'https://www.instagram.com/p/B7b3VcXpGln/', 'https://www.instagram.com/p/B7b3VbHJWam/', 'https://www.instagram.com/p/B7b3VZRJ2Kp/', 'https://www.instagram.com/p/B7b3VRlg9yZ/', 'https://www.instagram.com/p/B7b3VTbAnwc/', 'https://www.instagram.com/p/B7b3VIwoEZs/', 'https://www.instagram.com/p/B7b3VJAnwGU/']\n"
     ]
    }
   ],
   "source": [
    "substring = \"https://www.instagram.com\"\n",
    "\n",
    "image_urls = []\n",
    "\n",
    "for i in range(0, len(image_links)):\n",
    "    url = substring + image_links[i]\n",
    "    image_urls.append(url)\n",
    "    \n",
    "print(image_urls)"
   ]
  },
  {
   "cell_type": "markdown",
   "metadata": {},
   "source": [
    "## Save and crop image "
   ]
  },
  {
   "cell_type": "markdown",
   "metadata": {},
   "source": [
    "Let us open the html of a single post as example."
   ]
  },
  {
   "cell_type": "code",
   "execution_count": 6,
   "metadata": {},
   "outputs": [],
   "source": [
    "url = \"https://www.instagram.com/p/B7btA41Jd2J/\"\n",
    "driver = webdriver.Chrome(\"/usr/bin/chromedriver\")\n",
    "driver.get(url)"
   ]
  },
  {
   "cell_type": "markdown",
   "metadata": {},
   "source": [
    "We make a screenshot and save it under a certain working directory."
   ]
  },
  {
   "cell_type": "code",
   "execution_count": 7,
   "metadata": {},
   "outputs": [
    {
     "name": "stdout",
     "output_type": "stream",
     "text": [
      "/home/emanuel/Desktop/saved_images/test.png\n"
     ]
    }
   ],
   "source": [
    "save_name = 'test' + '.png'  \n",
    "save_path = \"/home/emanuel/Desktop/saved_images/\"\n",
    "save_dir = str(save_path + save_name)\n",
    "print(save_dir)\n",
    "driver.save_screenshot(save_dir)\n",
    "driver.close()"
   ]
  },
  {
   "cell_type": "markdown",
   "metadata": {},
   "source": [
    "We re-open the screenshot and extract the image by cropping the png-file."
   ]
  },
  {
   "cell_type": "code",
   "execution_count": 8,
   "metadata": {},
   "outputs": [],
   "source": [
    "image = Image.open(save_dir)\n",
    "box = (50, 200, 500, 730)\n",
    "area = image.crop(box)\n",
    "area.save(save_dir)"
   ]
  },
  {
   "cell_type": "markdown",
   "metadata": {},
   "source": [
    " "
   ]
  },
  {
   "cell_type": "markdown",
   "metadata": {},
   "source": [
    "## The Function"
   ]
  },
  {
   "cell_type": "code",
   "execution_count": 9,
   "metadata": {},
   "outputs": [],
   "source": [
    "def insta_pic_saver(hashtag, max_pictures, directory):\n",
    "    \n",
    "    url = \"https://www.instagram.com/explore/tags/\"\n",
    "    url = url + hashtag + \"/\"\n",
    "    \n",
    "    driver = webdriver.Chrome(\"/usr/bin/chromedriver\")\n",
    "    driver.get(url)\n",
    "    soup = bs(driver.page_source)\n",
    "\n",
    "    all_links = []\n",
    "    for link in soup.find_all('a'):\n",
    "        current_link = link.get('href')\n",
    "        all_links.append(current_link)\n",
    "    driver.close()\n",
    "    \n",
    "    substring = \"/p/\"\n",
    "    image_links = []\n",
    "    for i in range(0, len(all_links)):\n",
    "        if all_links[i].startswith(substring):\n",
    "            image_links.append(all_links[i])\n",
    "\n",
    "    substring = \"https://www.instagram.com\"\n",
    "    image_urls = []\n",
    "    for i in range(0, len(image_links)):\n",
    "        url = substring + image_links[i]\n",
    "        image_urls.append(url)\n",
    "    \n",
    "    if len(image_urls) < max_pictures:\n",
    "        control_string = \"ERROR: not enough images, max image number is\"\n",
    "        print(control_string, len(image_urls))\n",
    "        return\n",
    "    \n",
    "    i = 0\n",
    "    while i <= (max_pictures-1):\n",
    "        \n",
    "        driver = webdriver.Chrome(\"/usr/bin/chromedriver\")\n",
    "        url = image_urls[i]\n",
    "        driver.get(url)\n",
    "        soup = bs(driver.page_source)\n",
    "        \n",
    "        save_name = 'image' + str(i) + '.png'  \n",
    "        save_path = directory\n",
    "        save_dir = str(save_path + save_name)\n",
    "        driver.save_screenshot(save_dir)\n",
    "        driver.close()\n",
    "        \n",
    "        image = Image.open(save_dir)\n",
    "        box = (50, 200, 500, 730)\n",
    "        area = image.crop(box)\n",
    "        area.save(save_dir)\n",
    "        \n",
    "        i += 1"
   ]
  },
  {
   "cell_type": "markdown",
   "metadata": {},
   "source": [
    " "
   ]
  },
  {
   "cell_type": "markdown",
   "metadata": {},
   "source": [
    "## Some examples "
   ]
  },
  {
   "cell_type": "code",
   "execution_count": 10,
   "metadata": {
    "scrolled": true
   },
   "outputs": [],
   "source": [
    "hashtag = \"tbt\"\n",
    "max_pictures = 5\n",
    "directory = \"/home/emanuel/Desktop/saved_images/\"\n",
    "insta_pic_saver(hashtag, max_pictures, directory)"
   ]
  },
  {
   "cell_type": "code",
   "execution_count": 11,
   "metadata": {},
   "outputs": [],
   "source": [
    "hashtag = \"travelgram\"\n",
    "max_pictures = 5\n",
    "directory = \"/home/emanuel/Desktop/saved_images2/\"\n",
    "insta_pic_saver(hashtag, max_pictures, directory)"
   ]
  },
  {
   "cell_type": "code",
   "execution_count": 12,
   "metadata": {},
   "outputs": [],
   "source": [
    "hashtag = \"food\"\n",
    "max_pictures = 5\n",
    "directory = \"/home/emanuel/Desktop/saved_images3/\"\n",
    "insta_pic_saver(hashtag, max_pictures, directory)"
   ]
  }
 ],
 "metadata": {
  "kernelspec": {
   "display_name": "Python 3",
   "language": "python",
   "name": "python3"
  },
  "language_info": {
   "codemirror_mode": {
    "name": "ipython",
    "version": 3
   },
   "file_extension": ".py",
   "mimetype": "text/x-python",
   "name": "python",
   "nbconvert_exporter": "python",
   "pygments_lexer": "ipython3",
   "version": "3.7.3"
  }
 },
 "nbformat": 4,
 "nbformat_minor": 4
}
