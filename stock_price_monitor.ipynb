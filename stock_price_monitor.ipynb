{
 "cells": [
  {
   "cell_type": "markdown",
   "metadata": {},
   "source": [
    "#  Stock Price Monitor"
   ]
  },
  {
   "cell_type": "markdown",
   "metadata": {},
   "source": [
    " "
   ]
  },
  {
   "cell_type": "code",
   "execution_count": 121,
   "metadata": {},
   "outputs": [],
   "source": [
    "from urllib.request import urlopen\n",
    "from bs4 import BeautifulSoup as bs\n",
    "import re\n",
    "import datetime"
   ]
  },
  {
   "cell_type": "code",
   "execution_count": 81,
   "metadata": {},
   "outputs": [],
   "source": [
    "url = \"https://www.boerse.de/indizes/MSCI-World/XC0009692739\""
   ]
  },
  {
   "cell_type": "code",
   "execution_count": 82,
   "metadata": {},
   "outputs": [],
   "source": [
    "html = urlopen(url)   \n",
    "soup = bs(html.read())\n",
    "soup = soup.find_all('span',{'class':'BW_PUSH'})"
   ]
  },
  {
   "cell_type": "code",
   "execution_count": 83,
   "metadata": {},
   "outputs": [],
   "source": [
    "temp = []\n",
    "for i in range(0, len(soup)):\n",
    "    temp.append(str(soup[i]))\n",
    "soup = temp"
   ]
  },
  {
   "cell_type": "code",
   "execution_count": 84,
   "metadata": {},
   "outputs": [
    {
     "name": "stdout",
     "output_type": "stream",
     "text": [
      "[24, 29, 32]\n",
      "[25, 30, 33]\n",
      "[27, 31, 34]\n"
     ]
    }
   ],
   "source": [
    "# \"last\", \"perfInstAbs\", \"perfInstRel\"\n",
    "\n",
    "substrings = [\"last\", \"perfInstAbs\", \"perfInstRel\"]\n",
    "\n",
    "for j in range(0, len(substrings)):\n",
    "    temp_ind = []\n",
    "    for i in range(0, len(soup)):\n",
    "        if substrings[j] in soup[i]:\n",
    "            temp_ind.append(i)\n",
    "    print(temp_ind)\n",
    "        "
   ]
  },
  {
   "cell_type": "code",
   "execution_count": 85,
   "metadata": {},
   "outputs": [
    {
     "name": "stdout",
     "output_type": "stream",
     "text": [
      "<span class=\"BW_PUSH\">\n",
      "<span class=\"\" data-format-option=\"2\" data-push-agse=\"226974@173\" data-push-attribute=\"last\">\n",
      "                                        2.396,67                                     </span>\n",
      "</span>\n"
     ]
    }
   ],
   "source": [
    "price_string = soup[29]\n",
    "print(price_string)"
   ]
  },
  {
   "cell_type": "code",
   "execution_count": 110,
   "metadata": {
    "scrolled": true
   },
   "outputs": [
    {
     "name": "stdout",
     "output_type": "stream",
     "text": [
      "<span class=\"BW_PUSH\">\n",
      "<span class=\"\" data-format-option=\"2\" data-push-agse=\"226974@173\" data-push-attribute=\"perfInstAbs\">\n",
      "                                        10,27                                     </span>\n",
      "</span>\n"
     ]
    }
   ],
   "source": [
    "da_string = soup[30]\n",
    "print(da_string)"
   ]
  },
  {
   "cell_type": "code",
   "execution_count": 113,
   "metadata": {},
   "outputs": [
    {
     "name": "stdout",
     "output_type": "stream",
     "text": [
      "<span class=\"BW_PUSH\">\n",
      "<span class=\"\" data-push-agse=\"226974@173\" data-push-attribute=\"perfInstRel\" data-sign=\" %\">\n",
      "                                        0,43 %\n",
      "                                    </span>\n",
      "</span>\n"
     ]
    }
   ],
   "source": [
    "dr_string = soup[31]\n",
    "print(dr_string)"
   ]
  },
  {
   "cell_type": "code",
   "execution_count": 114,
   "metadata": {},
   "outputs": [
    {
     "name": "stdout",
     "output_type": "stream",
     "text": [
      "2.396,67\n",
      "['2', '', '396', '', '67', '']\n",
      "2396.67\n"
     ]
    }
   ],
   "source": [
    "price = re.findall(\"\\d*\\.*\\d*\\,\\d*\", price_string)\n",
    "price = price[0]\n",
    "print(price)\n",
    "\n",
    "price = re.findall(\"\\d*\", price)\n",
    "print(price)\n",
    "\n",
    "price = float(str(price[0] + price[2] + \".\" + price[4]))\n",
    "print(price)"
   ]
  },
  {
   "cell_type": "code",
   "execution_count": 117,
   "metadata": {},
   "outputs": [
    {
     "name": "stdout",
     "output_type": "stream",
     "text": [
      "10,27\n",
      "['10', '', '27', '']\n",
      "10.27\n"
     ]
    }
   ],
   "source": [
    "da = re.findall(\"\\d*\\,\\d*\", da_string)\n",
    "da = da[0]\n",
    "print(da)\n",
    "\n",
    "da =re.findall(\"\\d*\", da)\n",
    "print(da)\n",
    "\n",
    "da = float(str(da[0] + \".\" + da[2]))\n",
    "print(da)"
   ]
  },
  {
   "cell_type": "code",
   "execution_count": 129,
   "metadata": {},
   "outputs": [
    {
     "name": "stdout",
     "output_type": "stream",
     "text": [
      "0,43\n",
      "['0', '', '43', '']\n",
      "0.43\n"
     ]
    }
   ],
   "source": [
    "dr = re.findall(\"\\-*\\d*\\,\\d*\", dr_string)\n",
    "dr = dr[0]\n",
    "print(dr)\n",
    "\n",
    "dr =re.findall(\"\\d*\", dr)\n",
    "print(dr)\n",
    "\n",
    "dr = float(str(dr[0] + \".\" + dr[2]))\n",
    "print(dr)"
   ]
  },
  {
   "cell_type": "code",
   "execution_count": 128,
   "metadata": {
    "scrolled": true
   },
   "outputs": [
    {
     "name": "stdout",
     "output_type": "stream",
     "text": [
      "MSCI World Index stock is at  2396.67 $ at  2020-01-16 17:02:07.568083 .\n",
      "The absolute 24h development is  10.27 .\n",
      "The relative 24h development is  0.43 % .\n"
     ]
    }
   ],
   "source": [
    "print(\"MSCI World Index stock is at \", price, \"$ at \", datetime.datetime.now(), \".\")\n",
    "print(\"The absolute 24h development is \", da, \".\")\n",
    "print(\"The relative 24h development is \", dr, \"% .\")"
   ]
  },
  {
   "cell_type": "code",
   "execution_count": 130,
   "metadata": {},
   "outputs": [],
   "source": [
    "# ToDo: Build function with input url and stock name, print every 1 minute."
   ]
  }
 ],
 "metadata": {
  "kernelspec": {
   "display_name": "Python 3",
   "language": "python",
   "name": "python3"
  },
  "language_info": {
   "codemirror_mode": {
    "name": "ipython",
    "version": 3
   },
   "file_extension": ".py",
   "mimetype": "text/x-python",
   "name": "python",
   "nbconvert_exporter": "python",
   "pygments_lexer": "ipython3",
   "version": "3.6.7"
  }
 },
 "nbformat": 4,
 "nbformat_minor": 4
}
