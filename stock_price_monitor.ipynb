{
 "cells": [
  {
   "cell_type": "markdown",
   "metadata": {},
   "source": [
    "#  Stock Price Monitor"
   ]
  },
  {
   "cell_type": "markdown",
   "metadata": {},
   "source": [
    " "
   ]
  },
  {
   "cell_type": "markdown",
   "metadata": {},
   "source": [
    "## The Objective "
   ]
  },
  {
   "cell_type": "markdown",
   "metadata": {},
   "source": [
    "The aim is to monitor stock prices on https://www.boerse.de/.\n",
    "\n",
    "We look for the current price, the absolute 24h development and the relative 24h development."
   ]
  },
  {
   "cell_type": "markdown",
   "metadata": {},
   "source": [
    " "
   ]
  },
  {
   "cell_type": "markdown",
   "metadata": {},
   "source": [
    "## Setup and requirements"
   ]
  },
  {
   "cell_type": "code",
   "execution_count": 1,
   "metadata": {},
   "outputs": [],
   "source": [
    "from urllib.request import urlopen\n",
    "from bs4 import BeautifulSoup as bs\n",
    "import re\n",
    "import datetime\n",
    "import time"
   ]
  },
  {
   "cell_type": "markdown",
   "metadata": {},
   "source": [
    " "
   ]
  },
  {
   "cell_type": "markdown",
   "metadata": {},
   "source": [
    "## Extract relevant information "
   ]
  },
  {
   "cell_type": "markdown",
   "metadata": {},
   "source": [
    "We choose the MSCI World Index as an example. The MSCI World is the index for the 23 countries with the strongest economy. The index measures the development of 1650 stocks. \n",
    "\n",
    "First, we save the respective URL as string. We inspect the website for a better understanding of the contents."
   ]
  },
  {
   "cell_type": "code",
   "execution_count": 2,
   "metadata": {},
   "outputs": [],
   "source": [
    "url = \"https://www.boerse.de/indizes/MSCI-World/XC0009692739\""
   ]
  },
  {
   "cell_type": "markdown",
   "metadata": {},
   "source": [
    "We read he contents and search for those parameters, where the target variables are stored."
   ]
  },
  {
   "cell_type": "code",
   "execution_count": 3,
   "metadata": {},
   "outputs": [],
   "source": [
    "html = urlopen(url)   \n",
    "soup = bs(html.read())\n",
    "soup = soup.find_all('span',{'class':'BW_PUSH'})"
   ]
  },
  {
   "cell_type": "markdown",
   "metadata": {},
   "source": [
    "The stored items are converted to a list."
   ]
  },
  {
   "cell_type": "code",
   "execution_count": 4,
   "metadata": {},
   "outputs": [
    {
     "name": "stdout",
     "output_type": "stream",
     "text": [
      "['<span class=\"BW_PUSH hidden\">\\n<span data-format-option=\"2\" data-push-agse=\"116404471@155\" data-push-attribute=\"timestamp\">\\n                                                    10:53:45\\n                                                </span>\\n</span>', '<span class=\"BW_PUSH hidden\">\\n<span data-format-option=\"2\" data-push-agse=\"116404471@155\" data-push-attribute=\"timestamp\">\\n                                                    10:53:45\\n                                                </span>\\n</span>', '<span class=\"BW_PUSH hidden\">\\n<span data-format-option=\"2\" data-push-agse=\"143953401@155\" data-push-attribute=\"timestamp\">\\n                                                    10:53:45\\n                                                </span>\\n</span>', '<span class=\"BW_PUSH hidden\">\\n<span data-format-option=\"2\" data-push-agse=\"143953401@155\" data-push-attribute=\"timestamp\">\\n                                                    10:53:45\\n                                                </span>\\n</span>', '<span class=\"BW_PUSH hidden\">\\n<span data-format-option=\"2\" data-push-agse=\"127655260@47\" data-push-attribute=\"timestamp\">\\n                                                    10:53:45\\n                                                </span>\\n</span>', '<span class=\"BW_PUSH hidden\">\\n<span data-format-option=\"2\" data-push-agse=\"127655260@47\" data-push-attribute=\"timestamp\">\\n                                                    10:53:45\\n                                                </span>\\n</span>', '<span class=\"BW_PUSH hidden\">\\n<span data-format-option=\"2\" data-push-agse=\"137319727@5\" data-push-attribute=\"timestamp\">\\n                                                    10:53:45\\n                                                </span>\\n</span>', '<span class=\"BW_PUSH hidden\">\\n<span data-format-option=\"2\" data-push-agse=\"137319727@5\" data-push-attribute=\"timestamp\">\\n                                                    10:53:45\\n                                                </span>\\n</span>', '<span class=\"BW_PUSH hidden\">\\n<span data-format-option=\"2\" data-push-agse=\"290@37\" data-push-attribute=\"timestamp\">\\n                                                    10:53:45\\n                                                </span>\\n</span>', '<span class=\"BW_PUSH hidden\">\\n<span data-format-option=\"2\" data-push-agse=\"290@12\" data-push-attribute=\"timestamp\">\\n                                                    10:53:45\\n                                                </span>\\n</span>', '<span class=\"BW_PUSH hidden\">\\n<span data-format-option=\"2\" data-push-agse=\"3491@37\" data-push-attribute=\"timestamp\">\\n                                                    10:53:45\\n                                                </span>\\n</span>', '<span class=\"BW_PUSH hidden\">\\n<span data-format-option=\"2\" data-push-agse=\"3491@37\" data-push-attribute=\"timestamp\">\\n                                                    10:53:45\\n                                                </span>\\n</span>', '<span class=\"BW_PUSH hidden\">\\n<span data-format-option=\"2\" data-push-agse=\"59794@37\" data-push-attribute=\"timestamp\">\\n                                                    10:53:45\\n                                                </span>\\n</span>', '<span class=\"BW_PUSH hidden\">\\n<span data-format-option=\"2\" data-push-agse=\"59794@37\" data-push-attribute=\"timestamp\">\\n                                                    10:53:45\\n                                                </span>\\n</span>', '<span class=\"BW_PUSH hidden\">\\n<span data-format-option=\"2\" data-push-agse=\"5851@173\" data-push-attribute=\"timestamp\">\\n                                                    10:53:45\\n                                                </span>\\n</span>', '<span class=\"BW_PUSH hidden\">\\n<span data-format-option=\"2\" data-push-agse=\"5851@173\" data-push-attribute=\"timestamp\">\\n                                                    10:53:45\\n                                                </span>\\n</span>', '<span class=\"BW_PUSH hidden\">\\n<span data-format-option=\"2\" data-push-agse=\"4325@173\" data-push-attribute=\"timestamp\">\\n                                                    10:53:45\\n                                                </span>\\n</span>', '<span class=\"BW_PUSH hidden\">\\n<span data-format-option=\"2\" data-push-agse=\"4325@173\" data-push-attribute=\"timestamp\">\\n                                                    10:53:45\\n                                                </span>\\n</span>', '<span class=\"BW_PUSH hidden\">\\n<span data-format-option=\"2\" data-push-agse=\"32119@126\" data-push-attribute=\"timestamp\">\\n                                                    10:53:45\\n                                                </span>\\n</span>', '<span class=\"BW_PUSH hidden\">\\n<span data-format-option=\"2\" data-push-agse=\"32119@126\" data-push-attribute=\"timestamp\">\\n                                                    10:53:45\\n                                                </span>\\n</span>', '<span class=\"BW_PUSH hidden\">\\n<span data-format-option=\"2\" data-push-agse=\"101622823@33\" data-push-attribute=\"timestamp\">\\n                                                    10:53:45\\n                                                </span>\\n</span>', '<span class=\"BW_PUSH hidden\">\\n<span data-format-option=\"2\" data-push-agse=\"101622823@33\" data-push-attribute=\"timestamp\">\\n                                                    10:53:45\\n                                                </span>\\n</span>', '<span class=\"BW_PUSH hidden\">\\n<span data-format-option=\"2\" data-push-agse=\"4633@32\" data-push-attribute=\"timestamp\">\\n                                                    10:53:45\\n                                                </span>\\n</span>', '<span class=\"BW_PUSH hidden\">\\n<span data-format-option=\"2\" data-push-agse=\"4633@32\" data-push-attribute=\"timestamp\">\\n                                                    10:53:45\\n                                                </span>\\n</span>', '<span class=\"BW_PUSH\">\\n<span class=\"red\" content=\"2409.42\" data-format-option=\"2\" data-push-agse=\"226974@173\" data-push-attribute=\"last\" data-sign=\"\" itemprop=\"price\">2.409,42\\n                        </span>\\n<span class=\"cur\" itemprop=\"priceCurrency\"></span>\\n</span>', '<span class=\"BW_PUSH\">\\n<span class=\"red\" data-format-option=\"2\" data-push-agse=\"226974@173\" data-push-attribute=\"perfInstAbs\" data-sign=\"\">-8,47\\n                        </span>\\n<span class=\"cur\"></span>\\n</span>', '<span class=\"BW_PUSH\">\\n<span data-push-agse=\"226974@173\" data-push-attribute=\"timestamp\">\\n                                15:12:33\\n                            </span>\\n</span>', '<span class=\"BW_PUSH\">\\n<span class=\"red\" data-format-option=\"2\" data-push-agse=\"226974@173\" data-push-attribute=\"perfInstRel\" data-sign=\"\">\\n                            -0,35\\n                        </span>\\n<span class=\"cur\">%</span>\\n</span>', '<span class=\"BW_PUSH\">\\n<span data-push-agse=\"226974@173\" data-push-attribute=\"date\">21.02.20</span>\\n</span>', '<span class=\"BW_PUSH\">\\n<span class=\"\" data-format-option=\"2\" data-push-agse=\"226974@173\" data-push-attribute=\"last\">\\n                                        2.409,42                                     </span>\\n</span>', '<span class=\"BW_PUSH\">\\n<span class=\"\" data-format-option=\"2\" data-push-agse=\"226974@173\" data-push-attribute=\"perfInstAbs\">\\n                                        -8,47                                     </span>\\n</span>', '<span class=\"BW_PUSH\">\\n<span class=\"\" data-push-agse=\"226974@173\" data-push-attribute=\"perfInstRel\" data-sign=\" %\">\\n                                        -0,35 %\\n                                    </span>\\n</span>', '<span class=\"BW_PUSH\">\\n<span class=\"red\" data-format-option=\"2\" data-push-agse=\"226974@173\" data-push-attribute=\"last\">\\n                            2.409,42                         </span>\\n</span>', '<span class=\"BW_PUSH\">\\n<span class=\"red\" data-format-option=\"2\" data-push-agse=\"226974@173\" data-push-attribute=\"perfInstAbs\">\\n                            -8,47                         </span>\\n</span>', '<span class=\"BW_PUSH\">\\n<span class=\"red\" data-push-agse=\"226974@173\" data-push-attribute=\"perfInstRel\" data-sign=\" %\">\\n                            -0,35 %\\n                        </span>\\n</span>', '<span class=\"BW_PUSH\">\\n<span data-push-agse=\"226974@173\" data-push-attribute=\"timestamp\">\\n                    15:12:33\\n                </span>\\n</span>', '<span class=\"BW_PUSH\">\\n<span data-push-agse=\"226974@173\" data-push-attribute=\"date\">\\n                    21.02.20\\n                </span>\\n</span>', '<span class=\"BW_PUSH\">\\n<span data-push-agse=\"226974@173\" data-push-attribute=\"close\">\\n                                2.417,89                             </span>\\n</span>', '<span class=\"BW_PUSH\">\\n<span data-push-agse=\"226974@173\" data-push-attribute=\"high\">\\n                                2.413,17                             </span>\\n</span>', '<span class=\"BW_PUSH\">\\n<span data-push-agse=\"226974@173\" data-push-attribute=\"low\">\\n                                2.401,00                             </span>\\n</span>', '<span class=\"BW_PUSH hidden\">\\n<span data-format-option=\"2\" data-push-agse=\"116404471@155\" data-push-attribute=\"timestamp\">\\n                            10:53:45\\n                        </span>\\n</span>', '<span class=\"BW_PUSH hidden\">\\n<span data-format-option=\"2\" data-push-agse=\"116404471@155\" data-push-attribute=\"timestamp\">\\n                                10:53:45\\n                            </span>\\n</span>', '<span class=\"BW_PUSH hidden\">\\n<span data-format-option=\"2\" data-push-agse=\"143953401@155\" data-push-attribute=\"timestamp\">\\n                            10:53:45\\n                        </span>\\n</span>', '<span class=\"BW_PUSH hidden\">\\n<span data-format-option=\"2\" data-push-agse=\"127655260@47\" data-push-attribute=\"timestamp\">\\n                            10:53:45\\n                        </span>\\n</span>', '<span class=\"BW_PUSH hidden\">\\n<span data-format-option=\"2\" data-push-agse=\"137319727@5\" data-push-attribute=\"timestamp\">\\n                            10:53:45\\n                        </span>\\n</span>', '<span class=\"BW_PUSH hidden\">\\n<span data-format-option=\"2\" data-push-agse=\"290@12\" data-push-attribute=\"timestamp\">\\n                            10:53:45\\n                        </span>\\n</span>', '<span class=\"BW_PUSH hidden\">\\n<span data-format-option=\"2\" data-push-agse=\"4325@173\" data-push-attribute=\"timestamp\">\\n                            10:53:45\\n                        </span>\\n</span>']\n"
     ]
    }
   ],
   "source": [
    "temp = []\n",
    "for i in range(0, len(soup)):\n",
    "    temp.append(str(soup[i]))\n",
    "soup = temp\n",
    "print(soup)"
   ]
  },
  {
   "cell_type": "markdown",
   "metadata": {},
   "source": [
    "We find the following substrings indicating our target information. We search for the position of the strings in our list that contain these substrings."
   ]
  },
  {
   "cell_type": "code",
   "execution_count": 5,
   "metadata": {
    "scrolled": true
   },
   "outputs": [
    {
     "name": "stdout",
     "output_type": "stream",
     "text": [
      "[24, 29, 32]\n",
      "[25, 30, 33]\n",
      "[27, 31, 34]\n"
     ]
    }
   ],
   "source": [
    "# \"last\", \"perfInstAbs\", \"perfInstRel\"\n",
    "\n",
    "substrings = [\"last\", \"perfInstAbs\", \"perfInstRel\"]\n",
    "\n",
    "for j in range(0, len(substrings)):\n",
    "    temp_ind = []\n",
    "    for i in range(0, len(soup)):\n",
    "        if substrings[j] in soup[i]:\n",
    "            temp_ind.append(i)\n",
    "    print(temp_ind)\n",
    "        "
   ]
  },
  {
   "cell_type": "markdown",
   "metadata": {},
   "source": [
    "For further processing, it is recommended to choose a convenient string. "
   ]
  },
  {
   "cell_type": "code",
   "execution_count": 8,
   "metadata": {},
   "outputs": [
    {
     "name": "stdout",
     "output_type": "stream",
     "text": [
      "<span class=\"BW_PUSH\">\n",
      "<span class=\"\" data-format-option=\"2\" data-push-agse=\"226974@173\" data-push-attribute=\"last\">\n",
      "                                        2.409,42                                     </span>\n",
      "</span>\n"
     ]
    }
   ],
   "source": [
    "price_string = soup[29]\n",
    "print(price_string)"
   ]
  },
  {
   "cell_type": "code",
   "execution_count": 9,
   "metadata": {
    "scrolled": true
   },
   "outputs": [
    {
     "name": "stdout",
     "output_type": "stream",
     "text": [
      "<span class=\"BW_PUSH\">\n",
      "<span class=\"\" data-format-option=\"2\" data-push-agse=\"226974@173\" data-push-attribute=\"perfInstAbs\">\n",
      "                                        -8,47                                     </span>\n",
      "</span>\n"
     ]
    }
   ],
   "source": [
    "da_string = soup[30]\n",
    "print(da_string)"
   ]
  },
  {
   "cell_type": "code",
   "execution_count": 10,
   "metadata": {
    "scrolled": true
   },
   "outputs": [
    {
     "name": "stdout",
     "output_type": "stream",
     "text": [
      "<span class=\"BW_PUSH\">\n",
      "<span class=\"\" data-push-agse=\"226974@173\" data-push-attribute=\"perfInstRel\" data-sign=\" %\">\n",
      "                                        -0,35 %\n",
      "                                    </span>\n",
      "</span>\n"
     ]
    }
   ],
   "source": [
    "dr_string = soup[31]\n",
    "print(dr_string)"
   ]
  },
  {
   "cell_type": "markdown",
   "metadata": {},
   "source": [
    "In order to extract the target information from the strings as floats, string manipulation is applied. "
   ]
  },
  {
   "cell_type": "code",
   "execution_count": 11,
   "metadata": {},
   "outputs": [
    {
     "name": "stdout",
     "output_type": "stream",
     "text": [
      "2.409,42\n",
      "['2', '', '409', '', '42', '']\n",
      "2409.42\n"
     ]
    }
   ],
   "source": [
    "price = re.findall(\"\\d*\\.*\\d*\\,\\d*\", price_string)\n",
    "price = price[0]\n",
    "print(price)\n",
    "\n",
    "price = re.findall(\"\\d*\", price)\n",
    "print(price)\n",
    "\n",
    "price = float(str(price[0] + price[2] + \".\" + price[4]))\n",
    "print(price)"
   ]
  },
  {
   "cell_type": "code",
   "execution_count": 12,
   "metadata": {},
   "outputs": [
    {
     "name": "stdout",
     "output_type": "stream",
     "text": [
      "-8,47\n",
      "['-8', '', '47', '']\n",
      "-8.47\n"
     ]
    }
   ],
   "source": [
    "da = re.findall(\"\\-*\\d*\\,\\d*\", da_string)\n",
    "da = da[0]\n",
    "print(da)\n",
    "\n",
    "da =re.findall(\"\\-*\\d*\", da)\n",
    "print(da)\n",
    "\n",
    "da = float(str(da[0] + \".\" + da[2]))\n",
    "print(da)"
   ]
  },
  {
   "cell_type": "code",
   "execution_count": 13,
   "metadata": {},
   "outputs": [
    {
     "name": "stdout",
     "output_type": "stream",
     "text": [
      "-0,35\n",
      "['-0', '', '35', '']\n",
      "-0.35\n"
     ]
    }
   ],
   "source": [
    "dr = re.findall(\"\\-*\\d*\\,\\d*\", dr_string)\n",
    "dr = dr[0]\n",
    "print(dr)\n",
    "\n",
    "dr =re.findall(\"\\-*\\d*\", dr)\n",
    "print(dr)\n",
    "\n",
    "dr = float(str(dr[0] + \".\" + dr[2]))\n",
    "print(dr)"
   ]
  },
  {
   "cell_type": "markdown",
   "metadata": {},
   "source": [
    "Lastly, we use the generated information to print the result."
   ]
  },
  {
   "cell_type": "code",
   "execution_count": 14,
   "metadata": {
    "scrolled": true
   },
   "outputs": [
    {
     "name": "stdout",
     "output_type": "stream",
     "text": [
      "MSCI World Index stock is at  2409.42 $ at  2020-02-21 15:18:26.460798 .\n",
      "The absolute 24h development is  -8.47 .\n",
      "The relative 24h development is  -0.35 % .\n"
     ]
    }
   ],
   "source": [
    "print(\"MSCI World Index stock is at \", price, \"$ at \", datetime.datetime.now(), \".\")\n",
    "print(\"The absolute 24h development is \", da, \".\")\n",
    "print(\"The relative 24h development is \", dr, \"% .\")"
   ]
  },
  {
   "cell_type": "markdown",
   "metadata": {},
   "source": [
    " "
   ]
  },
  {
   "cell_type": "markdown",
   "metadata": {},
   "source": [
    "## The Function "
   ]
  },
  {
   "cell_type": "markdown",
   "metadata": {},
   "source": [
    "Now, we compute a function that takes following input arguments:\n",
    "\n",
    "* **url**: any url from https://www.boerse.de/\n",
    "* **name**: name of stock market item (only used for result)\n",
    "* **minutes**: minutes to watch the stock.\n",
    "\n",
    "The aim is a general function that watches any stock from https://www.boerse.de/ as long as we intend."
   ]
  },
  {
   "cell_type": "code",
   "execution_count": 17,
   "metadata": {},
   "outputs": [],
   "source": [
    "def stock_monitor(url, name, minutes):\n",
    "    \n",
    "    minute = 1\n",
    "    while minute <= minutes: \n",
    "        \n",
    "        html = urlopen(url)   \n",
    "        soup = bs(html.read())\n",
    "        soup = soup.find_all('span',{'class':'BW_PUSH'}) \n",
    "    \n",
    "        temp = []\n",
    "        for i in range(0, len(soup)):\n",
    "            temp.append(str(soup[i]))\n",
    "        soup = temp\n",
    "    \n",
    "        price_string = soup[29]\n",
    "        da_string = soup[30]\n",
    "        dr_string = soup[31]\n",
    "    \n",
    "        price = re.findall(\"\\d*\\.*\\d*\\,\\d*\", price_string)\n",
    "        price = price[0]\n",
    "        price = re.findall(\"\\d*\", price)\n",
    "        price = float(str(price[0] + price[2] + \".\" + price[4]))\n",
    "    \n",
    "        da = re.findall(\"\\-*\\d*\\,\\d*\", da_string)\n",
    "        da = da[0]\n",
    "        da = re.findall(\"\\-*\\d*\", da)\n",
    "        da = float(str(da[0] + \".\" + da[2]))\n",
    "    \n",
    "        dr = re.findall(\"\\-*\\d*\\,\\d*\", dr_string)\n",
    "        dr = dr[0]\n",
    "        dr =re.findall(\"\\-*\\d*\", dr)\n",
    "        dr = float(str(dr[0] + \".\" + dr[2]))\n",
    "    \n",
    "        print(name ,\"stock is at \", price, \"$ at \", datetime.datetime.now(), \".\")\n",
    "        print(\"The absolute 24h development is \", da, \".\")\n",
    "        print(\"The relative 24h development is \", dr, \"% .\")\n",
    "        print(\" \")\n",
    "        \n",
    "        time.sleep(30)\n",
    "        minute += 1\n",
    "        \n",
    "        \n",
    "      "
   ]
  },
  {
   "cell_type": "markdown",
   "metadata": {},
   "source": [
    " "
   ]
  },
  {
   "cell_type": "markdown",
   "metadata": {},
   "source": [
    "## Some examples "
   ]
  },
  {
   "cell_type": "code",
   "execution_count": 16,
   "metadata": {
    "scrolled": false
   },
   "outputs": [
    {
     "name": "stdout",
     "output_type": "stream",
     "text": [
      "MSCI WORLD INDEX stock is at  2410.18 $ at  2020-02-21 15:22:24.338250 .\n",
      "The absolute 24h development is  -7.71 .\n",
      "The relative 24h development is  -0.32 % .\n",
      " \n",
      "MSCI WORLD INDEX stock is at  2410.18 $ at  2020-02-21 15:22:31.190097 .\n",
      "The absolute 24h development is  -7.71 .\n",
      "The relative 24h development is  -0.32 % .\n",
      " \n",
      "MSCI WORLD INDEX stock is at  2410.18 $ at  2020-02-21 15:22:37.888511 .\n",
      "The absolute 24h development is  -7.71 .\n",
      "The relative 24h development is  -0.32 % .\n",
      " \n",
      "MSCI WORLD INDEX stock is at  2410.18 $ at  2020-02-21 15:22:44.440907 .\n",
      "The absolute 24h development is  -7.71 .\n",
      "The relative 24h development is  -0.32 % .\n",
      " \n",
      "MSCI WORLD INDEX stock is at  2410.18 $ at  2020-02-21 15:22:50.797838 .\n",
      "The absolute 24h development is  -7.71 .\n",
      "The relative 24h development is  -0.32 % .\n",
      " \n"
     ]
    }
   ],
   "source": [
    "url = \"https://www.boerse.de/indizes/MSCI-World/XC0009692739\"\n",
    "name = \"MSCI WORLD INDEX\"\n",
    "\n",
    "stock_monitor(url, name, minutes=5)"
   ]
  },
  {
   "cell_type": "code",
   "execution_count": 18,
   "metadata": {},
   "outputs": [
    {
     "name": "stdout",
     "output_type": "stream",
     "text": [
      "DAX stock is at  13708.5 $ at  2020-02-18 20:31:19.588860 .\n",
      "The absolute 24h development is  -72.5 .\n",
      "The relative 24h development is  -0.53 % .\n",
      " \n",
      "DAX stock is at  13708.5 $ at  2020-02-18 20:31:21.800240 .\n",
      "The absolute 24h development is  -72.5 .\n",
      "The relative 24h development is  -0.53 % .\n",
      " \n",
      "DAX stock is at  13708.5 $ at  2020-02-18 20:31:23.968806 .\n",
      "The absolute 24h development is  -72.5 .\n",
      "The relative 24h development is  -0.53 % .\n",
      " \n",
      "DAX stock is at  13708.5 $ at  2020-02-18 20:31:26.261462 .\n",
      "The absolute 24h development is  -72.5 .\n",
      "The relative 24h development is  -0.53 % .\n",
      " \n",
      "DAX stock is at  13708.5 $ at  2020-02-18 20:31:28.353994 .\n",
      "The absolute 24h development is  -72.5 .\n",
      "The relative 24h development is  -0.53 % .\n",
      " \n"
     ]
    }
   ],
   "source": [
    "url = \"https://www.boerse.de/indizes/Dax/DE0008469008\"\n",
    "name = \"DAX\"\n",
    "\n",
    "stock_monitor(url, name, minutes=5)"
   ]
  },
  {
   "cell_type": "code",
   "execution_count": 16,
   "metadata": {
    "scrolled": true
   },
   "outputs": [
    {
     "name": "stdout",
     "output_type": "stream",
     "text": [
      "GOLD stock is at  1600.93 $ at  2020-02-18 20:27:21.942993 .\n",
      "The absolute 24h development is  18.32 .\n",
      "The relative 24h development is  1.16 % .\n",
      " \n",
      "GOLD stock is at  1600.93 $ at  2020-02-18 20:27:24.088600 .\n",
      "The absolute 24h development is  18.32 .\n",
      "The relative 24h development is  1.16 % .\n",
      " \n",
      "GOLD stock is at  1600.93 $ at  2020-02-18 20:27:26.093555 .\n",
      "The absolute 24h development is  18.32 .\n",
      "The relative 24h development is  1.16 % .\n",
      " \n",
      "GOLD stock is at  1600.93 $ at  2020-02-18 20:27:28.109561 .\n",
      "The absolute 24h development is  18.32 .\n",
      "The relative 24h development is  1.16 % .\n",
      " \n",
      "GOLD stock is at  1600.93 $ at  2020-02-18 20:27:29.948124 .\n",
      "The absolute 24h development is  18.32 .\n",
      "The relative 24h development is  1.16 % .\n",
      " \n"
     ]
    }
   ],
   "source": [
    "url = \"https://www.boerse.de/rohstoffe/Goldpreis/XC0009655157\"\n",
    "name = \"GOLD\"\n",
    "\n",
    "stock_monitor(url, name, minutes=5)"
   ]
  },
  {
   "cell_type": "code",
   "execution_count": 18,
   "metadata": {},
   "outputs": [
    {
     "name": "stdout",
     "output_type": "stream",
     "text": [
      "DOW JONES stock is at  29113.06 $ at  2020-02-21 15:23:50.467145 .\n",
      "The absolute 24h development is  -103.95 .\n",
      "The relative 24h development is  -0.36 % .\n",
      " \n",
      "DOW JONES stock is at  29113.06 $ at  2020-02-21 15:24:22.240939 .\n",
      "The absolute 24h development is  -103.95 .\n",
      "The relative 24h development is  -0.36 % .\n",
      " \n",
      "DOW JONES stock is at  29110.0 $ at  2020-02-21 15:24:54.104487 .\n",
      "The absolute 24h development is  -62.0 .\n",
      "The relative 24h development is  -0.21 % .\n",
      " \n",
      "DOW JONES stock is at  29110.0 $ at  2020-02-21 15:25:25.942413 .\n",
      "The absolute 24h development is  -62.0 .\n",
      "The relative 24h development is  -0.21 % .\n",
      " \n",
      "DOW JONES stock is at  29110.0 $ at  2020-02-21 15:25:57.539629 .\n",
      "The absolute 24h development is  -62.0 .\n",
      "The relative 24h development is  -0.21 % .\n",
      " \n"
     ]
    }
   ],
   "source": [
    "url = \"https://www.boerse.de/indizes/Dow-Jones/US2605661048\"\n",
    "name = \"DOW JONES\"\n",
    "\n",
    "stock_monitor(url, name, minutes=5)"
   ]
  }
 ],
 "metadata": {
  "kernelspec": {
   "display_name": "Python 3",
   "language": "python",
   "name": "python3"
  },
  "language_info": {
   "codemirror_mode": {
    "name": "ipython",
    "version": 3
   },
   "file_extension": ".py",
   "mimetype": "text/x-python",
   "name": "python",
   "nbconvert_exporter": "python",
   "pygments_lexer": "ipython3",
   "version": "3.6.7"
  }
 },
 "nbformat": 4,
 "nbformat_minor": 4
}
