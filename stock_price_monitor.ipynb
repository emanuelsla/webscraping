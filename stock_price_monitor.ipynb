{
 "cells": [
  {
   "cell_type": "markdown",
   "metadata": {},
   "source": [
    "#  Stock Price Monitor"
   ]
  },
  {
   "cell_type": "markdown",
   "metadata": {},
   "source": [
    " "
   ]
  },
  {
   "cell_type": "code",
   "execution_count": 1,
   "metadata": {},
   "outputs": [],
   "source": [
    "from urllib.request import urlopen\n",
    "from bs4 import BeautifulSoup as bs\n",
    "import re\n",
    "import datetime\n",
    "import time"
   ]
  },
  {
   "cell_type": "code",
   "execution_count": 2,
   "metadata": {},
   "outputs": [],
   "source": [
    "url = \"https://www.boerse.de/indizes/MSCI-World/XC0009692739\""
   ]
  },
  {
   "cell_type": "code",
   "execution_count": 3,
   "metadata": {},
   "outputs": [],
   "source": [
    "html = urlopen(url)   \n",
    "soup = bs(html.read())\n",
    "soup = soup.find_all('span',{'class':'BW_PUSH'})"
   ]
  },
  {
   "cell_type": "code",
   "execution_count": 4,
   "metadata": {},
   "outputs": [],
   "source": [
    "temp = []\n",
    "for i in range(0, len(soup)):\n",
    "    temp.append(str(soup[i]))\n",
    "soup = temp"
   ]
  },
  {
   "cell_type": "code",
   "execution_count": 5,
   "metadata": {},
   "outputs": [
    {
     "name": "stdout",
     "output_type": "stream",
     "text": [
      "[24, 29, 32]\n",
      "[25, 30, 33]\n",
      "[27, 31, 34]\n"
     ]
    }
   ],
   "source": [
    "# \"last\", \"perfInstAbs\", \"perfInstRel\"\n",
    "\n",
    "substrings = [\"last\", \"perfInstAbs\", \"perfInstRel\"]\n",
    "\n",
    "for j in range(0, len(substrings)):\n",
    "    temp_ind = []\n",
    "    for i in range(0, len(soup)):\n",
    "        if substrings[j] in soup[i]:\n",
    "            temp_ind.append(i)\n",
    "    print(temp_ind)\n",
    "        "
   ]
  },
  {
   "cell_type": "code",
   "execution_count": 6,
   "metadata": {},
   "outputs": [
    {
     "name": "stdout",
     "output_type": "stream",
     "text": [
      "<span class=\"BW_PUSH\">\n",
      "<span class=\"\" data-format-option=\"2\" data-push-agse=\"226974@173\" data-push-attribute=\"last\">\n",
      "                                        2.401,84                                     </span>\n",
      "</span>\n"
     ]
    }
   ],
   "source": [
    "price_string = soup[29]\n",
    "print(price_string)"
   ]
  },
  {
   "cell_type": "code",
   "execution_count": 7,
   "metadata": {
    "scrolled": true
   },
   "outputs": [
    {
     "name": "stdout",
     "output_type": "stream",
     "text": [
      "<span class=\"BW_PUSH\">\n",
      "<span class=\"\" data-format-option=\"2\" data-push-agse=\"226974@173\" data-push-attribute=\"perfInstAbs\">\n",
      "                                        15,43                                     </span>\n",
      "</span>\n"
     ]
    }
   ],
   "source": [
    "da_string = soup[30]\n",
    "print(da_string)"
   ]
  },
  {
   "cell_type": "code",
   "execution_count": 8,
   "metadata": {},
   "outputs": [
    {
     "name": "stdout",
     "output_type": "stream",
     "text": [
      "<span class=\"BW_PUSH\">\n",
      "<span class=\"\" data-push-agse=\"226974@173\" data-push-attribute=\"perfInstRel\" data-sign=\" %\">\n",
      "                                        0,65 %\n",
      "                                    </span>\n",
      "</span>\n"
     ]
    }
   ],
   "source": [
    "dr_string = soup[31]\n",
    "print(dr_string)"
   ]
  },
  {
   "cell_type": "code",
   "execution_count": 9,
   "metadata": {},
   "outputs": [
    {
     "name": "stdout",
     "output_type": "stream",
     "text": [
      "2.401,84\n",
      "['2', '', '401', '', '84', '']\n",
      "2401.84\n"
     ]
    }
   ],
   "source": [
    "price = re.findall(\"\\d*\\.*\\d*\\,\\d*\", price_string)\n",
    "price = price[0]\n",
    "print(price)\n",
    "\n",
    "price = re.findall(\"\\d*\", price)\n",
    "print(price)\n",
    "\n",
    "price = float(str(price[0] + price[2] + \".\" + price[4]))\n",
    "print(price)"
   ]
  },
  {
   "cell_type": "code",
   "execution_count": 10,
   "metadata": {},
   "outputs": [
    {
     "name": "stdout",
     "output_type": "stream",
     "text": [
      "15,43\n",
      "['15', '', '43', '']\n",
      "15.43\n"
     ]
    }
   ],
   "source": [
    "da = re.findall(\"\\d*\\,\\d*\", da_string)\n",
    "da = da[0]\n",
    "print(da)\n",
    "\n",
    "da =re.findall(\"\\-*\\d*\", da)\n",
    "print(da)\n",
    "\n",
    "da = float(str(da[0] + \".\" + da[2]))\n",
    "print(da)"
   ]
  },
  {
   "cell_type": "code",
   "execution_count": 11,
   "metadata": {},
   "outputs": [
    {
     "name": "stdout",
     "output_type": "stream",
     "text": [
      "0,65\n",
      "['0', '', '65', '']\n",
      "0.65\n"
     ]
    }
   ],
   "source": [
    "dr = re.findall(\"\\-*\\d*\\,\\d*\", dr_string)\n",
    "dr = dr[0]\n",
    "print(dr)\n",
    "\n",
    "dr =re.findall(\"\\-*\\d*\", dr)\n",
    "print(dr)\n",
    "\n",
    "dr = float(str(dr[0] + \".\" + dr[2]))\n",
    "print(dr)"
   ]
  },
  {
   "cell_type": "code",
   "execution_count": 12,
   "metadata": {
    "scrolled": true
   },
   "outputs": [
    {
     "name": "stdout",
     "output_type": "stream",
     "text": [
      "MSCI World Index stock is at  2401.84 $ at  2020-01-16 21:37:37.642690 .\n",
      "The absolute 24h development is  15.43 .\n",
      "The relative 24h development is  0.65 % .\n"
     ]
    }
   ],
   "source": [
    "print(\"MSCI World Index stock is at \", price, \"$ at \", datetime.datetime.now(), \".\")\n",
    "print(\"The absolute 24h development is \", da, \".\")\n",
    "print(\"The relative 24h development is \", dr, \"% .\")"
   ]
  },
  {
   "cell_type": "code",
   "execution_count": 13,
   "metadata": {},
   "outputs": [],
   "source": [
    "def stock_monitor(url, name, minutes):\n",
    "    \n",
    "    minute = 1\n",
    "    while minute <= minutes: \n",
    "        \n",
    "        html = urlopen(url)   \n",
    "        soup = bs(html.read())\n",
    "        soup = soup.find_all('span',{'class':'BW_PUSH'}) \n",
    "    \n",
    "        temp = []\n",
    "        for i in range(0, len(soup)):\n",
    "            temp.append(str(soup[i]))\n",
    "        soup = temp\n",
    "    \n",
    "        price_string = soup[29]\n",
    "        da_string = soup[30]\n",
    "        dr_string = soup[31]\n",
    "    \n",
    "        price = re.findall(\"\\d*\\.*\\d*\\,\\d*\", price_string)\n",
    "        price = price[0]\n",
    "        price = re.findall(\"\\d*\", price)\n",
    "        price = float(str(price[0] + price[2] + \".\" + price[4]))\n",
    "    \n",
    "        da = re.findall(\"\\-*\\d*\\,\\d*\", da_string)\n",
    "        da = da[0]\n",
    "        da = re.findall(\"\\-*\\d*\", da)\n",
    "        da = float(str(da[0] + \".\" + da[2]))\n",
    "    \n",
    "        dr = re.findall(\"\\-*\\d*\\,\\d*\", dr_string)\n",
    "        dr = dr[0]\n",
    "        dr =re.findall(\"\\-*\\d*\", dr)\n",
    "        dr = float(str(dr[0] + \".\" + dr[2]))\n",
    "    \n",
    "        print(name ,\"stock is at \", price, \"$ at \", datetime.datetime.now(), \".\")\n",
    "        print(\"The absolute 24h development is \", da, \".\")\n",
    "        print(\"The relative 24h development is \", dr, \"% .\")\n",
    "        print(\" \")\n",
    "        \n",
    "        time.sleep(60)\n",
    "        minute += 1\n",
    "        \n",
    "        \n",
    "      "
   ]
  },
  {
   "cell_type": "code",
   "execution_count": 14,
   "metadata": {
    "scrolled": false
   },
   "outputs": [
    {
     "name": "stdout",
     "output_type": "stream",
     "text": [
      "MSCI WORLD INDEX stock is at  2401.84 $ at  2020-01-16 21:37:38.854501 .\n",
      "The absolute 24h development is  15.43 .\n",
      "The relative 24h development is  0.65 % .\n",
      " \n",
      "MSCI WORLD INDEX stock is at  2401.91 $ at  2020-01-16 21:38:40.286877 .\n",
      "The absolute 24h development is  15.5 .\n",
      "The relative 24h development is  0.65 % .\n",
      " \n",
      "MSCI WORLD INDEX stock is at  2403.1 $ at  2020-01-16 21:39:43.930109 .\n",
      "The absolute 24h development is  16.69 .\n",
      "The relative 24h development is  0.7 % .\n",
      " \n",
      "MSCI WORLD INDEX stock is at  2403.14 $ at  2020-01-16 21:40:46.792393 .\n",
      "The absolute 24h development is  16.74 .\n",
      "The relative 24h development is  0.7 % .\n",
      " \n",
      "MSCI WORLD INDEX stock is at  2403.15 $ at  2020-01-16 21:41:48.446996 .\n",
      "The absolute 24h development is  16.74 .\n",
      "The relative 24h development is  0.7 % .\n",
      " \n"
     ]
    }
   ],
   "source": [
    "url = \"https://www.boerse.de/indizes/MSCI-World/XC0009692739\"\n",
    "name = \"MSCI WORLD INDEX\"\n",
    "\n",
    "stock_monitor(url, name, minutes=5)"
   ]
  },
  {
   "cell_type": "code",
   "execution_count": 15,
   "metadata": {},
   "outputs": [
    {
     "name": "stdout",
     "output_type": "stream",
     "text": [
      "DAX stock is at  13460.5 $ at  2020-01-16 21:42:50.000418 .\n",
      "The absolute 24h development is  28.2 .\n",
      "The relative 24h development is  0.21 % .\n",
      " \n",
      "DAX stock is at  13461.02 $ at  2020-01-16 21:43:51.296129 .\n",
      "The absolute 24h development is  28.98 .\n",
      "The relative 24h development is  0.22 % .\n",
      " \n",
      "DAX stock is at  13461.5 $ at  2020-01-16 21:44:52.828621 .\n",
      "The absolute 24h development is  29.2 .\n",
      "The relative 24h development is  0.22 % .\n",
      " \n",
      "DAX stock is at  13458.0 $ at  2020-01-16 21:45:55.129427 .\n",
      "The absolute 24h development is  31.5 .\n",
      "The relative 24h development is  0.23 % .\n",
      " \n",
      "DAX stock is at  13460.54 $ at  2020-01-16 21:47:02.265805 .\n",
      "The absolute 24h development is  28.49 .\n",
      "The relative 24h development is  0.21 % .\n",
      " \n"
     ]
    }
   ],
   "source": [
    "url = \"https://www.boerse.de/indizes/Dax/DE0008469008\"\n",
    "name = \"DAX\"\n",
    "\n",
    "stock_monitor(url, name, minutes=5)"
   ]
  },
  {
   "cell_type": "code",
   "execution_count": 16,
   "metadata": {
    "scrolled": true
   },
   "outputs": [
    {
     "name": "stdout",
     "output_type": "stream",
     "text": [
      "GOLD stock is at  1552.87 $ at  2020-01-16 21:48:03.572719 .\n",
      "The absolute 24h development is  -3.35 .\n",
      "The relative 24h development is  -0.22 % .\n",
      " \n",
      "GOLD stock is at  1553.14 $ at  2020-01-16 21:49:04.998422 .\n",
      "The absolute 24h development is  -3.4 .\n",
      "The relative 24h development is  -0.22 % .\n",
      " \n",
      "GOLD stock is at  1553.29 $ at  2020-01-16 21:50:06.595570 .\n",
      "The absolute 24h development is  -3.24 .\n",
      "The relative 24h development is  -0.21 % .\n",
      " \n",
      "GOLD stock is at  1553.28 $ at  2020-01-16 21:51:08.059902 .\n",
      "The absolute 24h development is  -3.26 .\n",
      "The relative 24h development is  -0.21 % .\n",
      " \n",
      "GOLD stock is at  1553.41 $ at  2020-01-16 21:52:11.410043 .\n",
      "The absolute 24h development is  -2.81 .\n",
      "The relative 24h development is  -0.18 % .\n",
      " \n"
     ]
    }
   ],
   "source": [
    "url = \"https://www.boerse.de/rohstoffe/Goldpreis/XC0009655157\"\n",
    "name = \"GOLD\"\n",
    "\n",
    "stock_monitor(url, name, minutes=5)"
   ]
  },
  {
   "cell_type": "code",
   "execution_count": 17,
   "metadata": {},
   "outputs": [
    {
     "name": "stdout",
     "output_type": "stream",
     "text": [
      "DOW JONES stock is at  29282.23 $ at  2020-01-16 21:53:13.615230 .\n",
      "The absolute 24h development is  243.83 .\n",
      "The relative 24h development is  0.84 % .\n",
      " \n",
      "DOW JONES stock is at  29285.35 $ at  2020-01-16 21:54:14.840900 .\n",
      "The absolute 24h development is  246.95 .\n",
      "The relative 24h development is  0.85 % .\n",
      " \n",
      "DOW JONES stock is at  29283.67 $ at  2020-01-16 21:55:17.757534 .\n",
      "The absolute 24h development is  245.27 .\n",
      "The relative 24h development is  0.84 % .\n",
      " \n",
      "DOW JONES stock is at  29284.2 $ at  2020-01-16 21:56:20.902699 .\n",
      "The absolute 24h development is  245.8 .\n",
      "The relative 24h development is  0.85 % .\n",
      " \n",
      "DOW JONES stock is at  29252.0 $ at  2020-01-16 21:57:23.875260 .\n",
      "The absolute 24h development is  200.0 .\n",
      "The relative 24h development is  0.69 % .\n",
      " \n"
     ]
    }
   ],
   "source": [
    "url = \"https://www.boerse.de/indizes/Dow-Jones/US2605661048\"\n",
    "name = \"DOW JONES\"\n",
    "\n",
    "stock_monitor(url, name, minutes=5)"
   ]
  }
 ],
 "metadata": {
  "kernelspec": {
   "display_name": "Python 3",
   "language": "python",
   "name": "python3"
  },
  "language_info": {
   "codemirror_mode": {
    "name": "ipython",
    "version": 3
   },
   "file_extension": ".py",
   "mimetype": "text/x-python",
   "name": "python",
   "nbconvert_exporter": "python",
   "pygments_lexer": "ipython3",
   "version": "3.6.7"
  }
 },
 "nbformat": 4,
 "nbformat_minor": 4
}
